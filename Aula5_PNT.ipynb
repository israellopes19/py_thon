{
  "nbformat": 4,
  "nbformat_minor": 0,
  "metadata": {
    "colab": {
      "provenance": [],
      "include_colab_link": true
    },
    "kernelspec": {
      "name": "python3",
      "display_name": "Python 3"
    },
    "language_info": {
      "name": "python"
    }
  },
  "cells": [
    {
      "cell_type": "markdown",
      "metadata": {
        "id": "view-in-github",
        "colab_type": "text"
      },
      "source": [
        "<a href=\"https://colab.research.google.com/github/israellopes19/python/blob/main/Aula5_PNT.ipynb\" target=\"_parent\"><img src=\"https://colab.research.google.com/assets/colab-badge.svg\" alt=\"Open In Colab\"/></a>"
      ]
    },
    {
      "cell_type": "code",
      "execution_count": null,
      "metadata": {
        "id": "UvFqk86h1q51"
      },
      "outputs": [],
      "source": [
        "# ETE CÍCERO DIAS\n",
        "# DOCENTE : CLOVES\n",
        "# ESTUDANTES: ISREAL\n",
        "# print('Cloves')\n",
        "# Tipos Primitivos de Dados\n",
        "c=10\n",
        "print ( type(c))"
      ]
    },
    {
      "cell_type": "code",
      "source": [
        "<class ' float'>"
      ],
      "metadata": {
        "id": "2AdyKatNrSOI"
      },
      "execution_count": null,
      "outputs": []
    },
    {
      "cell_type": "code",
      "source": [
        "# 3.Operadores Aritmetricos - Python\n",
        "#10+1\n",
        "#10 - 1\n",
        "#4*5\n",
        "#10 / 3\n",
        "# 10 // 3\n",
        "#2 ** 3\n",
        "#13 % 2\n",
        "\n",
        "#c = 2 ** 3\n",
        "#print(c)\n",
        "\n",
        "c = 10 // 3\n",
        "print(c)\n"
      ],
      "metadata": {
        "id": "GtPSxIgNr3_9"
      },
      "execution_count": null,
      "outputs": []
    },
    {
      "cell_type": "code",
      "source": [
        "3"
      ],
      "metadata": {
        "id": "HxU4sYbuuUVM"
      },
      "execution_count": null,
      "outputs": []
    },
    {
      "cell_type": "code",
      "source": [
        "#3.Operadores Relacionais Simples\n",
        "\n",
        "#7 > 5\n",
        "#10 > 15\n",
        "\n",
        "notaA = 5\n",
        "notaB = 10\n",
        "notaA = notaB\n",
        "print(notaA)"
      ],
      "metadata": {
        "id": "xb9zDvD-uWaY"
      },
      "execution_count": null,
      "outputs": []
    },
    {
      "cell_type": "code",
      "source": [
        "10"
      ],
      "metadata": {
        "id": "KD2MEdMIvCep"
      },
      "execution_count": null,
      "outputs": []
    },
    {
      "cell_type": "code",
      "source": [
        "#5. Operadores Relacionais Composto\n",
        "#na = 10\n",
        "#nb = 6\n",
        "#nc = 8\n",
        "#nd = 9\n",
        "#na >= nb\n",
        "#7 >= 6\n",
        "#print('Estudante aprovado!')\n",
        "#7 <= 10\n",
        "a = 10\n",
        "b = 9\n",
        "a != b"
      ],
      "metadata": {
        "id": "8qXFVomnvETM"
      },
      "execution_count": null,
      "outputs": []
    },
    {
      "cell_type": "code",
      "source": [
        "True"
      ],
      "metadata": {
        "id": "XDO6-4jFvU1U"
      },
      "execution_count": null,
      "outputs": []
    },
    {
      "cell_type": "code",
      "source": [
        "nome = input('Digite seu nome')\n",
        "print(f'Seu nome é {nome},')"
      ],
      "metadata": {
        "id": "qRABjgDMvWb-"
      },
      "execution_count": null,
      "outputs": []
    },
    {
      "cell_type": "code",
      "source": [
        "Digite seu nome: Israel\n",
        "Seu nome é: Israel"
      ],
      "metadata": {
        "id": "pgdzyTwGvq1C"
      },
      "execution_count": null,
      "outputs": []
    },
    {
      "cell_type": "code",
      "source": [
        "idade= input('Digite sua idade')\n",
        "print(f'Você tem{idade} anos e','Meses')\n",
        "print(type(idade))"
      ],
      "metadata": {
        "id": "SZ9kfvFYv5kK"
      },
      "execution_count": null,
      "outputs": []
    },
    {
      "cell_type": "code",
      "source": [
        "Digite sua idade:19.4\n",
        "Você tem 19 anos e 4 meses\n",
        "<class 'float'>"
      ],
      "metadata": {
        "id": "3b7ap3vVwSlk"
      },
      "execution_count": null,
      "outputs": []
    },
    {
      "cell_type": "code",
      "source": [
        "peso= float(input('Digite seu peso'))\n",
        "print(f'Você pesa {peso}KGs')\n",
        "print(type(peso))"
      ],
      "metadata": {
        "id": "CBPtzBVzwp41"
      },
      "execution_count": null,
      "outputs": []
    },
    {
      "cell_type": "code",
      "source": [
        "Digite seu peso: 71\n",
        "Voê pesa 71.0KGs\n",
        "<class 'float'>"
      ],
      "metadata": {
        "id": "kiPL3UEIxE7i"
      },
      "execution_count": null,
      "outputs": []
    }
  ]
}