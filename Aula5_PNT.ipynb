{
  "nbformat": 4,
  "nbformat_minor": 0,
  "metadata": {
    "colab": {
      "provenance": [],
      "authorship_tag": "ABX9TyPAHE574PSaxcbEcG5YT2XS",
      "include_colab_link": true
    },
    "kernelspec": {
      "name": "python3",
      "display_name": "Python 3"
    },
    "language_info": {
      "name": "python"
    }
  },
  "cells": [
    {
      "cell_type": "markdown",
      "metadata": {
        "id": "view-in-github",
        "colab_type": "text"
      },
      "source": [
        "<a href=\"https://colab.research.google.com/github/israellopes19/python/blob/main/Aula5_PNT.ipynb\" target=\"_parent\"><img src=\"https://colab.research.google.com/assets/colab-badge.svg\" alt=\"Open In Colab\"/></a>"
      ]
    },
    {
      "cell_type": "code",
      "execution_count": null,
      "metadata": {
        "id": "UvFqk86h1q51"
      },
      "outputs": [],
      "source": [
        "# ETE CÍCERO DIAS\n",
        "# DOCENTE : CLOVES\n",
        "# ESTUDANTES: ISREAL\n",
        "# print('Cloves')\n",
        "# Tipos Primitivos de Dados\n",
        "c=10\n",
        "print ( type(c))"
      ]
    }
  ]
}