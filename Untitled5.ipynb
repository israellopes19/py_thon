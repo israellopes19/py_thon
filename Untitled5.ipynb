{
  "nbformat": 4,
  "nbformat_minor": 0,
  "metadata": {
    "colab": {
      "provenance": [],
      "authorship_tag": "ABX9TyP2W8CoNKlWAuWVy4PaYnq6",
      "include_colab_link": true
    },
    "kernelspec": {
      "name": "python3",
      "display_name": "Python 3"
    },
    "language_info": {
      "name": "python"
    }
  },
  "cells": [
    {
      "cell_type": "markdown",
      "metadata": {
        "id": "view-in-github",
        "colab_type": "text"
      },
      "source": [
        "<a href=\"https://colab.research.google.com/github/israellopes19/python/blob/main/Untitled5.ipynb\" target=\"_parent\"><img src=\"https://colab.research.google.com/assets/colab-badge.svg\" alt=\"Open In Colab\"/></a>"
      ]
    },
    {
      "cell_type": "code",
      "execution_count": 1,
      "metadata": {
        "colab": {
          "base_uri": "https://localhost:8080/"
        },
        "id": "R2DPs2p5u7ui",
        "outputId": "304ded1c-dea9-4955-ce68-9799c71e7e8f"
      },
      "outputs": [
        {
          "output_type": "stream",
          "name": "stdout",
          "text": [
            "O Código 0012, nome Alan Michel emissão o medicamento dipirona.\n"
          ]
        }
      ],
      "source": [
        "# DOCENTE: Prof. MSc. Cloves\n",
        "# AULA X: Python Noções OO\n",
        "# Estudante: Israel Antonio\n",
        "\n",
        "class Medico:\n",
        "  def __init__(self, codigo,paciente, medicamento):\n",
        "    self.codigo = codigo\n",
        "    self.paciente = paciente\n",
        "    self.medicamento = medicamento\n",
        "\n",
        "  def sala_de_medicamento(self):\n",
        "    return f\"O Código {self.codigo}, nome {self.paciente} emissão o medicamento {self.medicamento}.\"\n",
        "\n",
        "pessoa = Medico('0012','Alan Michel','dipirona')\n",
        "\n",
        "print(pessoa.sala_de_medicamento())"
      ]
    },
    {
      "cell_type": "code",
      "source": [],
      "metadata": {
        "id": "AMa57mHsvcy9"
      },
      "execution_count": null,
      "outputs": []
    },
    {
      "cell_type": "code",
      "source": [
        "class Cadastro:\n",
        "  def __init__(self, nome, cpf,data_de_nascimento, email, senha):\n",
        "     self.nome = nome\n",
        "     self.cpf = cpf\n",
        "     self.data_de_nascimento = data_de_nascimento\n",
        "     self.email = email\n",
        "     self. senha = senha\n",
        "\n",
        "  def banco_de_dados(self):\n",
        "    return f\"{self.nome}{self.cpf}{self.data_de_nascimento}{self.email}{self.senha}\"\n",
        "\n",
        "pessoa = Cadastro('Israel' , '222.333.444-0', '14/06/1992','israelantonio803@gmail.com', 1234)\n",
        "\n",
        "print(pessoa.nome)\n",
        "print(pessoa.cpf)\n",
        "print(pessoa.data_de_nascimento)\n",
        "print(pessoa.email)\n",
        "print(pessoa.senha)"
      ],
      "metadata": {
        "id": "uYKQZ5AJvi3L"
      },
      "execution_count": null,
      "outputs": []
    },
    {
      "cell_type": "code",
      "source": [
        "class Hardware:\n",
        "  def __init__(self,placa,processador,memoria,hd,fonte):\n",
        "    self.placa = placa\n",
        "    self.processador = processador\n",
        "    self.memoria = memoria\n",
        "    self.hd = hd\n",
        "    self.fonte = fonte\n",
        "\n",
        "  def dentro(self):\n",
        "    return f\"Meu computador dentro placa de mãe {self.placa}, processador {self.processador}, memória {self.memoria}, disco rigido {self.hd}, fonte de energia {self.fonte}.\"\n",
        "\n",
        "hardware = Hardware('GigaByte','Intel Core 5','RAM 8GB','500GB','750w')\n",
        "\n",
        "print(hardware.dentro())"
      ],
      "metadata": {
        "id": "s9arMfW8vy2j"
      },
      "execution_count": null,
      "outputs": []
    },
    {
      "cell_type": "code",
      "source": [
        "class Carro:\n",
        "  def __init__(self,marca, modelo, portas,cor, motor):\n",
        "    self.marca = marca\n",
        "    self.modelo = modelo\n",
        "    self.portas = portas\n",
        "    self.cor = cor\n",
        "    self.motor = motor\n",
        "\n",
        "  def apresentar(self):\n",
        "      return f\"Meu carro é {self.marca}, modelo e {self.modelo}, tenho {self.portas} portas, cor {self.cor}, motor é {self.motor}.\"\n",
        "\n",
        "pessoa1 = Carro('Volkswagen','Sapce Fox', 4 ,'vermelho',1.6)\n",
        "\n",
        "print(pessoa1.apresentar())"
      ],
      "metadata": {
        "id": "fVgHXix0wY76"
      },
      "execution_count": null,
      "outputs": []
    }
  ]
}