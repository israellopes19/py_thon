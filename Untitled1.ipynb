{
  "nbformat": 4,
  "nbformat_minor": 0,
  "metadata": {
    "colab": {
      "provenance": [],
      "authorship_tag": "ABX9TyNvHa8FOPd8jHosPdHxkpWs",
      "include_colab_link": true
    },
    "kernelspec": {
      "name": "python3",
      "display_name": "Python 3"
    },
    "language_info": {
      "name": "python"
    }
  },
  "cells": [
    {
      "cell_type": "markdown",
      "metadata": {
        "id": "view-in-github",
        "colab_type": "text"
      },
      "source": [
        "<a href=\"https://colab.research.google.com/github/israellopes19/python/blob/main/Untitled1.ipynb\" target=\"_parent\"><img src=\"https://colab.research.google.com/assets/colab-badge.svg\" alt=\"Open In Colab\"/></a>"
      ]
    },
    {
      "cell_type": "code",
      "execution_count": null,
      "metadata": {
        "id": "9K1U6EfOkJZq"
      },
      "outputs": [],
      "source": [
        "#3.Operadores Aritméticos\n",
        "\n",
        "c=10++1\n",
        "Print(c)\n",
        "11\n",
        "\n",
        "c=10--1\n",
        "Print(c)\n",
        "9\n",
        "\n",
        "c=4**5\n",
        "Print(c)\n",
        "20\n",
        "\n",
        "c=10/3\n",
        "Print(c)\n",
        "3,333\n",
        "\n",
        "c=10//3\n",
        "Print(c)\n",
        "3\n",
        "\n",
        "c=2**3\n",
        "Print(c)\n",
        "6\n",
        "\n",
        "c=13 % 2\n",
        "Print(c)\n",
        "1"
      ]
    },
    {
      "cell_type": "code",
      "source": [
        "#4.Operadores Relacionais\n",
        "\n",
        "notaA=7\n",
        "notaB=5\n",
        "notaA > notaB\n",
        "\n",
        "Verdadeiro\n",
        "\n",
        "notaA=10\n",
        "notaB=15\n",
        "notaA<notaB\n",
        "\n",
        "Verdadeiro"
      ],
      "metadata": {
        "id": "4B8r4H31oB6Q"
      },
      "execution_count": null,
      "outputs": []
    },
    {
      "cell_type": "code",
      "source": [
        "#5.Operadores Relacionais Compostos\n",
        "na=10\n",
        "nb=6\n",
        "nc=8\n",
        "nd=9\n",
        "na>=nb\n",
        "7>=6\n",
        "Pirnt('Estudante aprovado!')\n",
        "7>=10\n",
        "a=10\n",
        "b=10\n",
        "a !=b\n",
        "\n",
        "False"
      ],
      "metadata": {
        "id": "T5Sxx0lGpg-E"
      },
      "execution_count": null,
      "outputs": []
    },
    {
      "cell_type": "code",
      "source": [
        "\n",
        "nome=input('Digite seu nome:')\n",
        "print(f'Seu nome é {nome}')\n",
        "\n",
        "Digite seu nome: Israel\n",
        "Seu nome é israel"
      ],
      "metadata": {
        "id": "kzbyZwwvruIG"
      },
      "execution_count": null,
      "outputs": []
    },
    {
      "cell_type": "code",
      "source": [
        "\n",
        "\n",
        "\n",
        "\n",
        "idade=int(input('Digite sua idade:'))\n",
        "print(f'Você tem {idade}anos e','Meses')\n",
        "print(type(idade))\n",
        "\n",
        "Digite sua idade: 19\n",
        "Você tem 19 anos e meses"
      ],
      "metadata": {
        "id": "JqlS29PCvF3J"
      },
      "execution_count": null,
      "outputs": []
    },
    {
      "cell_type": "code",
      "source": [
        "\n",
        "\n",
        "\n",
        "\n",
        "peso=float(input('Digite seu peso:'))\n",
        "print(f'Você pesa{peso}KGs.')\n",
        "print(type(peso))\n",
        "\n",
        "Digite seu peso: 71\n",
        "Você pesa 71 KGs."
      ],
      "metadata": {
        "id": "KqVsynnKvciu"
      },
      "execution_count": null,
      "outputs": []
    },
    {
      "cell_type": "code",
      "source": [
        "\n",
        "\n",
        "\n",
        "numero=int(input('Digite um número:'))\n",
        "if numero % 2 ==0:\n",
        "    print(f'0 numero{numero}é par.')\n",
        "else:\n",
        "    print(f'O numero {numero} é impar.')\n",
        "\n",
        "Digite um número: 15\n",
        "O número 15 é impar."
      ],
      "metadata": {
        "id": "xe5NChYfvvrX"
      },
      "execution_count": null,
      "outputs": []
    },
    {
      "cell_type": "code",
      "source": [
        "\n",
        "numero=float (input('Digite um nunero: '))\n",
        "\n",
        "if numero > 0:\n",
        "  print('Este número é positivo.')\n",
        "\n",
        "elif numero ==0:\n",
        "    print('Este número é neutro:')\n",
        "\n",
        "else:\n",
        "    print('Este número é negativo')\n",
        "\n",
        "Digite uma numero: 50\n",
        "Este número é positivo"
      ],
      "metadata": {
        "id": "QfECEmV-xbmQ"
      },
      "execution_count": null,
      "outputs": []
    },
    {
      "cell_type": "code",
      "source": [
        "resposta = int(input('Qual sua idade: '))\n",
        "\n",
        "if resposta>=18 and resposta <=65:\n",
        "    print('Você é obrigado a votar!')\n",
        "\n",
        "else:print('Você não é obrigado a votar!')\n",
        "\n",
        "Qual sua idade:19\n",
        "Você é obrigado a votar"
      ],
      "metadata": {
        "id": "pdqOeYWp3xef"
      },
      "execution_count": null,
      "outputs": []
    },
    {
      "cell_type": "code",
      "source": [
        "\n",
        "print('1. Idoso')\n",
        "print('2. Gestante')\n",
        "print('3. Cadeirante')\n",
        "print('4. Nenhum destes')\n",
        "\n",
        "resposta= int(input('Você é:' ))\n",
        "\n",
        "if (resposta==1) or (resposta ==2) or (resposta==3):\n",
        "    print('Você tem direito a fila prioritária')\n",
        "else:\n",
        "    print('Você não tem direito a nada. Vá pra fila e fique quieto.')\n",
        "\n",
        "\n",
        "1. Idoso\n",
        "\n",
        "2. Gestante\n",
        "\n",
        "3. Cadeirante\n",
        "\n",
        "4. Nenhum destes Você é: 2\n",
        "\n",
        "Você tem direito a fila prioritária"
      ],
      "metadata": {
        "id": "oEPQMhsJ4CI_"
      },
      "execution_count": null,
      "outputs": []
    }
  ]
}