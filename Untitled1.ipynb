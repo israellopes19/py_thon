{
  "nbformat": 4,
  "nbformat_minor": 0,
  "metadata": {
    "colab": {
      "provenance": [],
      "authorship_tag": "ABX9TyOFPnOTGadGysPCkOBrqtfe",
      "include_colab_link": true
    },
    "kernelspec": {
      "name": "python3",
      "display_name": "Python 3"
    },
    "language_info": {
      "name": "python"
    }
  },
  "cells": [
    {
      "cell_type": "markdown",
      "metadata": {
        "id": "view-in-github",
        "colab_type": "text"
      },
      "source": [
        "<a href=\"https://colab.research.google.com/github/israellopes19/python/blob/main/Untitled1.ipynb\" target=\"_parent\"><img src=\"https://colab.research.google.com/assets/colab-badge.svg\" alt=\"Open In Colab\"/></a>"
      ]
    },
    {
      "cell_type": "code",
      "execution_count": null,
      "metadata": {
        "colab": {
          "base_uri": "https://localhost:8080/"
        },
        "id": "NcTjJ8LZl5UI",
        "outputId": "182c454e-dc32-4ed9-de84-71e9c5fa2574"
      },
      "outputs": [
        {
          "output_type": "stream",
          "name": "stdout",
          "text": [
            "Olá ETE CÍCERO DIAS!\n"
          ]
        }
      ],
      "source": [
        "# 1. imprimir nome da escola\n",
        "c=('Olá ETE CÍCERO DIAS!')\n",
        "print(c)"
      ]
    },
    {
      "cell_type": "code",
      "source": [
        "# 2. imprimir número informado\n",
        "numero=input(\"Digite um número:\")\n",
        "\n",
        "print(f\"O número informado foi {numero}\")"
      ],
      "metadata": {
        "colab": {
          "base_uri": "https://localhost:8080/"
        },
        "id": "LKj2bitxm6Kb",
        "outputId": "e13a4c0c-aec0-435a-c006-7bb7cb94d088"
      },
      "execution_count": null,
      "outputs": [
        {
          "output_type": "stream",
          "name": "stdout",
          "text": [
            "Digite um número:12\n",
            "O número informado foi 12\n"
          ]
        }
      ]
    },
    {
      "cell_type": "code",
      "source": [
        "# 3. imprimir números e somalos\n",
        "numero1=float(input('Digite o primeiro número:'))\n",
        "numero2=float(input('Digite o segundo número:'))\n",
        "\n",
        "soma=numero1+numero2\n",
        "\n",
        "print(f'A soma de {numero1} e {numero2} é igual a {soma}')"
      ],
      "metadata": {
        "colab": {
          "base_uri": "https://localhost:8080/"
        },
        "id": "kbmK7advoMey",
        "outputId": "01d0189d-e23a-467b-e721-2e36e5c68aca"
      },
      "execution_count": null,
      "outputs": [
        {
          "output_type": "stream",
          "name": "stdout",
          "text": [
            "Digite o primeiro número:2\n",
            "Digite o segundo número:3\n",
            "A soma de 2.0 e 3.0 é igual a 5.0\n"
          ]
        }
      ]
    },
    {
      "cell_type": "code",
      "source": [
        "# 4. faça a soma a soma de notas bimestrais\n",
        "nota1=float(input('Digite a nota1 do bimestre:'))\n",
        "nota2=float(input('Digite a nota2 do bimestre:'))\n",
        "nota3=float(input('Digite a nota3 do bimestre:'))\n",
        "nota4=float(input('Digite a nota4 do bimestre:'))\n",
        "\n",
        "media=(nota1+nota2+nota3+nota4)/ 4\n",
        "\n",
        "\n",
        "print(f'A média das notas é: {media}')"
      ],
      "metadata": {
        "colab": {
          "base_uri": "https://localhost:8080/"
        },
        "id": "HmEwPqxapMyD",
        "outputId": "f16fe007-50db-4fd1-cd4d-6cd8ad8e2eb4"
      },
      "execution_count": null,
      "outputs": [
        {
          "output_type": "stream",
          "name": "stdout",
          "text": [
            "Digite a nota1 do bimestre:1\n",
            "Digite a nota2 do bimestre:2\n",
            "Digite a nota3 do bimestre:6\n",
            "Digite a nota4 do bimestre:9\n",
            "A média das notas é: 4.5\n"
          ]
        }
      ]
    },
    {
      "cell_type": "code",
      "source": [
        "# 5. transformar metros para centímetros\n",
        "metros=float(input('Digite a medida em metros:'))\n",
        "\n",
        "centimetros=metros*100\n",
        "\n",
        "print(f'{metros} metros equivalem a {centimetros} centimetros')"
      ],
      "metadata": {
        "id": "85BNP9ihr_ye",
        "colab": {
          "base_uri": "https://localhost:8080/"
        },
        "outputId": "536f254d-5b37-4841-a34e-a2e8e538a5f8"
      },
      "execution_count": 1,
      "outputs": [
        {
          "output_type": "stream",
          "name": "stdout",
          "text": [
            "Digite a medida em metros:12\n",
            "12.0 metros equivalem a 1200.0centimetros\n"
          ]
        }
      ]
    },
    {
      "cell_type": "code",
      "source": [
        "# 6. raio do círculo e área\n",
        "import math\n",
        "\n",
        "raio=float(input('Digite o raio do círculo:'))\n",
        "\n",
        "area=math.pi * raio**2\n",
        "\n",
        "print(f'A área do círculo com raio {raio} é igual a {area:.2f}')"
      ],
      "metadata": {
        "colab": {
          "base_uri": "https://localhost:8080/"
        },
        "id": "kF9-qHEAwMAS",
        "outputId": "5a35b39f-95c1-4216-a8b7-9965a3e839a4"
      },
      "execution_count": 18,
      "outputs": [
        {
          "output_type": "stream",
          "name": "stdout",
          "text": [
            "Digite o raio do círculo:4\n",
            "A área do círculo com raio 4.0 é igual a 50.27\n"
          ]
        }
      ]
    },
    {
      "cell_type": "code",
      "source": [
        "# 7. o valor da area do quadrado\n",
        "lado=float(input('Digite o comprimento de um lado do quadrado:'))\n",
        "\n",
        "area=lado*lado\n",
        "\n",
        "dobro_da_area = 2*area\n",
        "\n",
        "print(f\"A área do quadrado é {area} e o dobro da da área é {dobro_da_area}\")"
      ],
      "metadata": {
        "colab": {
          "base_uri": "https://localhost:8080/"
        },
        "id": "1DOk-GgGyCGM",
        "outputId": "18857729-4e3a-484f-82f5-04863f67dc40"
      },
      "execution_count": 20,
      "outputs": [
        {
          "output_type": "stream",
          "name": "stdout",
          "text": [
            "Digite o comprimento de um lado do quadrado:2\n",
            "A área do quadrado é 4.0 e o dobro da da área é 8.0\n"
          ]
        }
      ]
    },
    {
      "cell_type": "code",
      "source": [
        "#8. salario do trabalhador\n",
        "valor_por_hora=float(input(\"Digite o valor que você ganha por hora:\"))\n",
        "horas_trabalhadas=float(input('Digite o número de horas trabalhadas no mês:'))\n",
        "\n",
        "salario_mensal = valor_por_hora * horas_trabalhadas\n",
        "\n",
        "\n",
        "print(f'Seu salário no mês é de R$ {salario_mensal:.2f}')"
      ],
      "metadata": {
        "colab": {
          "base_uri": "https://localhost:8080/"
        },
        "id": "b75GGBp5y5gi",
        "outputId": "f6ac80ff-e0bf-4ebc-b0ba-349ee2583bad"
      },
      "execution_count": 25,
      "outputs": [
        {
          "output_type": "stream",
          "name": "stdout",
          "text": [
            "Digite o valor que você ganha por hora:234\n",
            "Digite o número de horas trabalhadas no mês:23\n",
            "Seu salário no mês é de R$ 5382.00\n"
          ]
        }
      ]
    },
    {
      "cell_type": "code",
      "source": [
        "# 9. valor do numero\n",
        "valor=float(input('Digite um valor:'))\n",
        "\n",
        "if valor > 0:\n",
        "    print('O valor é positivo.')\n",
        "elif valor < 0:\n",
        "    print('O valor é negativo.')\n",
        "else:\n",
        "    print('O valor é igual a zero.')\n"
      ],
      "metadata": {
        "colab": {
          "base_uri": "https://localhost:8080/"
        },
        "id": "JfTHvCI1w1GZ",
        "outputId": "e3affff9-7729-4978-cb6a-dde914b3debd"
      },
      "execution_count": 19,
      "outputs": [
        {
          "output_type": "stream",
          "name": "stdout",
          "text": [
            "Digite um valor:2\n",
            "O valor é positivo.\n"
          ]
        }
      ]
    },
    {
      "cell_type": "code",
      "source": [
        "#10  gênero da pessoa\n",
        "letra=input('Digite uma letra (F para feminino,M para masculino):')\n",
        "\n",
        "if letra == 'F' or letra == 'f':\n",
        "  print('Feminino')\n",
        "elif letra == 'M' or letra == 'm':\n",
        " print('Masculino')\n",
        "else:\n",
        "  print('Sexo inválido')"
      ],
      "metadata": {
        "colab": {
          "base_uri": "https://localhost:8080/"
        },
        "id": "5GSUPRc3z8Lj",
        "outputId": "7f82750b-915e-4213-ed1a-17c4b05bef1b"
      },
      "execution_count": 24,
      "outputs": [
        {
          "output_type": "stream",
          "name": "stdout",
          "text": [
            "Digite uma letra (F para feminino,M para masculino):f\n",
            "Feminino\n"
          ]
        }
      ]
    }
  ]
}